{
 "cells": [
  {
   "cell_type": "code",
   "execution_count": 1,
   "metadata": {
    "collapsed": false
   },
   "outputs": [],
   "source": [
    "import pandas as pd\n",
    "from sklearn.ensemble import RandomForestRegressor, BaggingRegressor\n",
    "import Stemmer\n",
    "#from nltk.stem.snowball import SnowballStemmer\n",
    "\n",
    "import zipfile\n",
    "import matplotlib.pyplot as plt\n",
    "%matplotlib inline\n",
    "\n",
    "#stemmer = SnowballStemmer('english')\n",
    "stemmer = Stemmer.Stemmer('english')"
   ]
  },
  {
   "cell_type": "code",
   "execution_count": 2,
   "metadata": {
    "collapsed": false
   },
   "outputs": [],
   "source": [
    "z = zipfile.ZipFile('train.csv.zip')\n",
    "df_train = pd.read_csv(z.open('train.csv'),encoding=\"ISO-8859-1\")\n",
    "z = zipfile.ZipFile('test.csv.zip')\n",
    "df_test = pd.read_csv(z.open('test.csv'),encoding=\"ISO-8859-1\")\n",
    "z = zipfile.ZipFile('product_descriptions.csv.zip')\n",
    "df_pro_desc = pd.read_csv(z.open('product_descriptions.csv'))\n",
    "z = zipfile.ZipFile('attributes.csv.zip')\n",
    "df_attributes = pd.read_csv(z.open('attributes.csv'))\n",
    "df_attributes = df_attributes.drop('name',axis=1)"
   ]
  },
  {
   "cell_type": "code",
   "execution_count": 3,
   "metadata": {
    "collapsed": false
   },
   "outputs": [
    {
     "data": {
      "text/html": [
       "<div>\n",
       "<table border=\"1\" class=\"dataframe\">\n",
       "  <thead>\n",
       "    <tr style=\"text-align: right;\">\n",
       "      <th></th>\n",
       "      <th>product_uid</th>\n",
       "      <th>value</th>\n",
       "    </tr>\n",
       "  </thead>\n",
       "  <tbody>\n",
       "    <tr>\n",
       "      <th>0</th>\n",
       "      <td>100001</td>\n",
       "      <td>Versatile connector for various 90° connection...</td>\n",
       "    </tr>\n",
       "    <tr>\n",
       "      <th>1</th>\n",
       "      <td>100001</td>\n",
       "      <td>Stronger than angled nailing or screw fastenin...</td>\n",
       "    </tr>\n",
       "  </tbody>\n",
       "</table>\n",
       "</div>"
      ],
      "text/plain": [
       "   product_uid                                              value\n",
       "0       100001  Versatile connector for various 90° connection...\n",
       "1       100001  Stronger than angled nailing or screw fastenin..."
      ]
     },
     "execution_count": 3,
     "metadata": {},
     "output_type": "execute_result"
    }
   ],
   "source": [
    "df_attributes.value = df_attributes.value.astype(str)\n",
    "df_attributes.head(2)"
   ]
  },
  {
   "cell_type": "code",
   "execution_count": 4,
   "metadata": {
    "collapsed": false
   },
   "outputs": [
    {
     "data": {
      "text/html": [
       "<div>\n",
       "<table border=\"1\" class=\"dataframe\">\n",
       "  <thead>\n",
       "    <tr style=\"text-align: right;\">\n",
       "      <th></th>\n",
       "      <th>product_uid</th>\n",
       "      <th>prod_detail</th>\n",
       "    </tr>\n",
       "  </thead>\n",
       "  <tbody>\n",
       "    <tr>\n",
       "      <th>0</th>\n",
       "      <td>100001</td>\n",
       "      <td>Versatile connector for various 90° connection...</td>\n",
       "    </tr>\n",
       "    <tr>\n",
       "      <th>1</th>\n",
       "      <td>100002</td>\n",
       "      <td>Brush,Roller,Spray 6.63 in 7.76 in 6.63 in Rev...</td>\n",
       "    </tr>\n",
       "    <tr>\n",
       "      <th>2</th>\n",
       "      <td>100003</td>\n",
       "      <td>Yes Slightly narrower for tighter spaces Desig...</td>\n",
       "    </tr>\n",
       "  </tbody>\n",
       "</table>\n",
       "</div>"
      ],
      "text/plain": [
       "   product_uid                                        prod_detail\n",
       "0       100001  Versatile connector for various 90° connection...\n",
       "1       100002  Brush,Roller,Spray 6.63 in 7.76 in 6.63 in Rev...\n",
       "2       100003  Yes Slightly narrower for tighter spaces Desig..."
      ]
     },
     "execution_count": 4,
     "metadata": {},
     "output_type": "execute_result"
    }
   ],
   "source": [
    "df_att_merged = df_attributes.groupby('product_uid').apply(lambda x: ' '.join(x.value) ).reset_index()\n",
    "#                                                           if isinstance(x.value,str) \\\n",
    "#                                                          else ''.join(' '))\n",
    "df_att_merged.columns = ['product_uid','prod_detail']\n",
    "df_att_merged.head(3)"
   ]
  },
  {
   "cell_type": "code",
   "execution_count": 5,
   "metadata": {
    "collapsed": false
   },
   "outputs": [
    {
     "data": {
      "text/html": [
       "<div>\n",
       "<table border=\"1\" class=\"dataframe\">\n",
       "  <thead>\n",
       "    <tr style=\"text-align: right;\">\n",
       "      <th></th>\n",
       "      <th>id</th>\n",
       "      <th>product_uid</th>\n",
       "      <th>product_title</th>\n",
       "      <th>search_term</th>\n",
       "      <th>relevance</th>\n",
       "    </tr>\n",
       "  </thead>\n",
       "  <tbody>\n",
       "    <tr>\n",
       "      <th>0</th>\n",
       "      <td>2</td>\n",
       "      <td>100001</td>\n",
       "      <td>Simpson Strong-Tie 12-Gauge Angle</td>\n",
       "      <td>angle bracket</td>\n",
       "      <td>3.00</td>\n",
       "    </tr>\n",
       "    <tr>\n",
       "      <th>1</th>\n",
       "      <td>3</td>\n",
       "      <td>100001</td>\n",
       "      <td>Simpson Strong-Tie 12-Gauge Angle</td>\n",
       "      <td>l bracket</td>\n",
       "      <td>2.50</td>\n",
       "    </tr>\n",
       "    <tr>\n",
       "      <th>2</th>\n",
       "      <td>9</td>\n",
       "      <td>100002</td>\n",
       "      <td>BEHR Premium Textured DeckOver 1-gal. #SC-141 ...</td>\n",
       "      <td>deck over</td>\n",
       "      <td>3.00</td>\n",
       "    </tr>\n",
       "    <tr>\n",
       "      <th>3</th>\n",
       "      <td>16</td>\n",
       "      <td>100005</td>\n",
       "      <td>Delta Vero 1-Handle Shower Only Faucet Trim Ki...</td>\n",
       "      <td>rain shower head</td>\n",
       "      <td>2.33</td>\n",
       "    </tr>\n",
       "    <tr>\n",
       "      <th>4</th>\n",
       "      <td>17</td>\n",
       "      <td>100005</td>\n",
       "      <td>Delta Vero 1-Handle Shower Only Faucet Trim Ki...</td>\n",
       "      <td>shower only faucet</td>\n",
       "      <td>2.67</td>\n",
       "    </tr>\n",
       "  </tbody>\n",
       "</table>\n",
       "</div>"
      ],
      "text/plain": [
       "   id  product_uid                                      product_title  \\\n",
       "0   2       100001                  Simpson Strong-Tie 12-Gauge Angle   \n",
       "1   3       100001                  Simpson Strong-Tie 12-Gauge Angle   \n",
       "2   9       100002  BEHR Premium Textured DeckOver 1-gal. #SC-141 ...   \n",
       "3  16       100005  Delta Vero 1-Handle Shower Only Faucet Trim Ki...   \n",
       "4  17       100005  Delta Vero 1-Handle Shower Only Faucet Trim Ki...   \n",
       "\n",
       "          search_term  relevance  \n",
       "0       angle bracket       3.00  \n",
       "1           l bracket       2.50  \n",
       "2           deck over       3.00  \n",
       "3    rain shower head       2.33  \n",
       "4  shower only faucet       2.67  "
      ]
     },
     "execution_count": 5,
     "metadata": {},
     "output_type": "execute_result"
    }
   ],
   "source": [
    "df_train.head(5)"
   ]
  },
  {
   "cell_type": "code",
   "execution_count": null,
   "metadata": {
    "collapsed": true
   },
   "outputs": [],
   "source": []
  },
  {
   "cell_type": "code",
   "execution_count": 28,
   "metadata": {
    "collapsed": false
   },
   "outputs": [],
   "source": [
    "import re\n",
    "\n",
    "num_train = df_train.shape[0]\n",
    "\n",
    "def str_stemmer_new(s):\n",
    "    stemmed = ''\n",
    "    if isinstance(s,str):\n",
    "#        word_list = s.split(' ')\n",
    "        word_list = re.findall(r\"[\\w']+\", s)\n",
    "        for word in word_list:\n",
    "            if isinstance(word, basestring):\n",
    "                stemmed = stemmed + ' ' + stemmer.stemWord(word.lower())\n",
    "            else:\n",
    "                stemmed = stemmed + str(s)\n",
    "        return stemmed\n",
    "    else:\n",
    "        return str(s)\n",
    "\n",
    "def str_stemmer(s):\n",
    "\treturn \" \".join([stemmer.stemWord(word) for word in s.lower().split()])\n",
    "\n",
    "def str_common_word(str1, str2):\n",
    "\treturn sum(int(str2.find(word)>=0) for word in str1.split())\n"
   ]
  },
  {
   "cell_type": "code",
   "execution_count": 21,
   "metadata": {
    "collapsed": false
   },
   "outputs": [],
   "source": [
    "df_all = pd.concat((df_train, df_test), axis=0, ignore_index=True)\n",
    "\n",
    "df_all = pd.merge(df_all, df_pro_desc, how='left', on='product_uid')\n",
    "df_all = pd.merge(df_all, df_att_merged, how='left', on='product_uid')\n"
   ]
  },
  {
   "cell_type": "code",
   "execution_count": 24,
   "metadata": {
    "collapsed": false
   },
   "outputs": [],
   "source": [
    "#test = df_all.head(5)\n",
    "#test['prod_detail'] = test['prod_detail'].map(lambda x:str_stemmer(x))\n",
    "df_all['prod_detail'] = df_all['prod_detail'].map(lambda x:str_stemmer_new(x))\n",
    "#print(test.prod_detail)\n"
   ]
  },
  {
   "cell_type": "code",
   "execution_count": 26,
   "metadata": {
    "collapsed": false,
    "scrolled": true
   },
   "outputs": [
    {
     "data": {
      "text/html": [
       "<div>\n",
       "<table border=\"1\" class=\"dataframe\">\n",
       "  <thead>\n",
       "    <tr style=\"text-align: right;\">\n",
       "      <th></th>\n",
       "      <th>id</th>\n",
       "      <th>product_title</th>\n",
       "      <th>product_uid</th>\n",
       "      <th>relevance</th>\n",
       "      <th>search_term</th>\n",
       "      <th>product_description</th>\n",
       "      <th>prod_detail</th>\n",
       "    </tr>\n",
       "  </thead>\n",
       "  <tbody>\n",
       "    <tr>\n",
       "      <th>0</th>\n",
       "      <td>2</td>\n",
       "      <td>Simpson Strong-Tie 12-Gauge Angle</td>\n",
       "      <td>100001</td>\n",
       "      <td>3.0</td>\n",
       "      <td>angle bracket</td>\n",
       "      <td>Not only do angles make joints stronger, they ...</td>\n",
       "      <td>versatil connector for various 90 connect and...</td>\n",
       "    </tr>\n",
       "    <tr>\n",
       "      <th>1</th>\n",
       "      <td>3</td>\n",
       "      <td>Simpson Strong-Tie 12-Gauge Angle</td>\n",
       "      <td>100001</td>\n",
       "      <td>2.5</td>\n",
       "      <td>l bracket</td>\n",
       "      <td>Not only do angles make joints stronger, they ...</td>\n",
       "      <td>versatil connector for various 90 connect and...</td>\n",
       "    </tr>\n",
       "    <tr>\n",
       "      <th>2</th>\n",
       "      <td>9</td>\n",
       "      <td>BEHR Premium Textured DeckOver 1-gal. #SC-141 ...</td>\n",
       "      <td>100002</td>\n",
       "      <td>3.0</td>\n",
       "      <td>deck over</td>\n",
       "      <td>BEHR Premium Textured DECKOVER is an innovativ...</td>\n",
       "      <td>brush roller spray 6 63 in 7 76 in 6 63 in re...</td>\n",
       "    </tr>\n",
       "  </tbody>\n",
       "</table>\n",
       "</div>"
      ],
      "text/plain": [
       "   id                                      product_title  product_uid  \\\n",
       "0   2                  Simpson Strong-Tie 12-Gauge Angle       100001   \n",
       "1   3                  Simpson Strong-Tie 12-Gauge Angle       100001   \n",
       "2   9  BEHR Premium Textured DeckOver 1-gal. #SC-141 ...       100002   \n",
       "\n",
       "   relevance    search_term  \\\n",
       "0        3.0  angle bracket   \n",
       "1        2.5      l bracket   \n",
       "2        3.0      deck over   \n",
       "\n",
       "                                 product_description  \\\n",
       "0  Not only do angles make joints stronger, they ...   \n",
       "1  Not only do angles make joints stronger, they ...   \n",
       "2  BEHR Premium Textured DECKOVER is an innovativ...   \n",
       "\n",
       "                                         prod_detail  \n",
       "0   versatil connector for various 90 connect and...  \n",
       "1   versatil connector for various 90 connect and...  \n",
       "2   brush roller spray 6 63 in 7 76 in 6 63 in re...  "
      ]
     },
     "execution_count": 26,
     "metadata": {},
     "output_type": "execute_result"
    }
   ],
   "source": [
    "df_all.head(3)"
   ]
  },
  {
   "cell_type": "code",
   "execution_count": 29,
   "metadata": {
    "collapsed": false
   },
   "outputs": [],
   "source": [
    "df_all['product_title'] = df_all['product_title'].map(lambda x:str_stemmer(x))"
   ]
  },
  {
   "cell_type": "code",
   "execution_count": 30,
   "metadata": {
    "collapsed": true
   },
   "outputs": [],
   "source": [
    "df_all['product_description'] = df_all['product_description'].map(lambda x:str_stemmer(x))"
   ]
  },
  {
   "cell_type": "code",
   "execution_count": 260,
   "metadata": {
    "collapsed": false
   },
   "outputs": [],
   "source": [
    "df_all['len_of_query'] = df_all['search_term'].map(lambda x:len(x.split())).astype(np.int64)\n",
    "df_all['product_info'] = df_all['search_term']+\"\\t\"+df_all['product_title']+\"\\t\"+df_all['product_description']+\"\\t\" \\\n",
    "                        +df_all['prod_detail']\n",
    "df_all['word_in_title'] = df_all['product_info'].map(lambda x:str_common_word(x.split('\\t')[0],x.split('\\t')[1]))\n",
    "df_all['word_in_description'] = df_all['product_info'].map(lambda x:str_common_word(x.split('\\t')[0],x.split('\\t')[2]))\n",
    "df_all['word_in_detail'] = df_all['product_info'].map(lambda x:str_common_word(x.split('\\t')[0],x.split('\\t')[3]))\n",
    "df_all = df_all.drop(['search_term','product_title','product_description','product_info','prod_detail'],axis=1)"
   ]
  },
  {
   "cell_type": "code",
   "execution_count": null,
   "metadata": {
    "collapsed": false,
    "scrolled": true
   },
   "outputs": [],
   "source": []
  },
  {
   "cell_type": "code",
   "execution_count": 246,
   "metadata": {
    "collapsed": false,
    "scrolled": true
   },
   "outputs": [
    {
     "name": "stdout",
     "output_type": "stream",
     "text": [
      "21985\n",
      "4604\n"
     ]
    },
    {
     "data": {
      "image/png": "[encoded data removed]",
      "text/plain": [
       "<matplotlib.figure.Figure at 0x187cf99d0>"
      ]
     },
     "metadata": {},
     "output_type": "display_data"
    }
   ],
   "source": [
    "# Matching first word of search with first word of title\n",
    "first_search_term = df_all.search_term.map(lambda x: x.split()[0])\n",
    "first_word_title = df_all.product_title.map(lambda x: x.split()[0])\n",
    "first = df_all[first_search_term == first_word_title].relevance\n",
    "print(len(first))\n",
    "\n",
    "# Matching second word of search with second word of title\n",
    "\n",
    "def term(s,n):\n",
    "    if len(s.split())>n:\n",
    "        return s.split()[n]\n",
    "\n",
    "second_word_title = df_all.product_title.apply(lambda x: term(x,1))\n",
    "second_search_term = df_all.search_term.apply(lambda x: term(x,1))\n",
    "second = df_all[second_search_term == second_word_title].relevance\n",
    "\n",
    "both = df_all[(second_search_term == second_word_title) & (first_search_term == first_word_title)].relevance\n",
    "print(len(both))\n",
    "\n",
    "from statsmodels.graphics.boxplots import beanplot\n",
    "beanplot([first.dropna().values,second.dropna().values,both.dropna().values])\n",
    "plt.show()"
   ]
  },
  {
   "cell_type": "markdown",
   "metadata": {},
   "source": [
    "Hmmm, it seems detecting for both the first and second common words does NOT improve the spread or average relevance from just detecting the first word... Not something I would have expected."
   ]
  },
  {
   "cell_type": "code",
   "execution_count": null,
   "metadata": {
    "collapsed": true
   },
   "outputs": [],
   "source": []
  },
  {
   "cell_type": "code",
   "execution_count": null,
   "metadata": {
    "collapsed": true
   },
   "outputs": [],
   "source": []
  },
  {
   "cell_type": "code",
   "execution_count": null,
   "metadata": {
    "collapsed": true
   },
   "outputs": [],
   "source": []
  },
  {
   "cell_type": "code",
   "execution_count": null,
   "metadata": {
    "collapsed": true
   },
   "outputs": [],
   "source": []
  },
  {
   "cell_type": "markdown",
   "metadata": {},
   "source": []
  },
  {
   "cell_type": "code",
   "execution_count": 116,
   "metadata": {
    "collapsed": false
   },
   "outputs": [
    {
     "data": {
      "text/html": [
       "<div>\n",
       "<table border=\"1\" class=\"dataframe\">\n",
       "  <thead>\n",
       "    <tr style=\"text-align: right;\">\n",
       "      <th></th>\n",
       "      <th>id</th>\n",
       "      <th>product_title</th>\n",
       "      <th>product_uid</th>\n",
       "      <th>relevance</th>\n",
       "      <th>search_term</th>\n",
       "      <th>product_description</th>\n",
       "      <th>prod_detail</th>\n",
       "      <th>len_of_query</th>\n",
       "      <th>product_info</th>\n",
       "      <th>word_in_title</th>\n",
       "      <th>word_in_description</th>\n",
       "      <th>word_in_detail</th>\n",
       "    </tr>\n",
       "  </thead>\n",
       "  <tbody>\n",
       "    <tr>\n",
       "      <th>44</th>\n",
       "      <td>164</td>\n",
       "      <td>9.1 in. x 5.8 in. white design shelf bracket</td>\n",
       "      <td>100030</td>\n",
       "      <td>1.67</td>\n",
       "      <td>8 4616809045 9</td>\n",
       "      <td>white design shelf bracket offer a stylish alt...</td>\n",
       "      <td>weight capac of 100 lbs per pair of bracket w...</td>\n",
       "      <td>3</td>\n",
       "      <td>8 4616809045 9\\t9.1 in. x 5.8 in. white design...</td>\n",
       "      <td>2</td>\n",
       "      <td>0</td>\n",
       "      <td>0</td>\n",
       "    </tr>\n",
       "    <tr>\n",
       "      <th>3585</th>\n",
       "      <td>11108</td>\n",
       "      <td>magic chef 23.8 in. w 9.2 cu. ft. bottom freez...</td>\n",
       "      <td>101918</td>\n",
       "      <td>3.00</td>\n",
       "      <td>8 4616809045 9</td>\n",
       "      <td>the magic chef 9.2 cu. ft. bottom freezer comp...</td>\n",
       "      <td>bottom freezer refriger energi star qualifi m...</td>\n",
       "      <td>3</td>\n",
       "      <td>8 4616809045 9\\tmagic chef 23.8 in. w 9.2 cu. ...</td>\n",
       "      <td>2</td>\n",
       "      <td>2</td>\n",
       "      <td>2</td>\n",
       "    </tr>\n",
       "    <tr>\n",
       "      <th>5097</th>\n",
       "      <td>15951</td>\n",
       "      <td>louisvill ladder premium seri 7 ft. - 8 ft. 9 ...</td>\n",
       "      <td>102809</td>\n",
       "      <td>1.67</td>\n",
       "      <td>8 4616809045 9</td>\n",
       "      <td>the premium seri wood attic ladder from louisv...</td>\n",
       "      <td>wood rail and rung offer solid support and la...</td>\n",
       "      <td>3</td>\n",
       "      <td>8 4616809045 9\\tlouisvill ladder premium seri ...</td>\n",
       "      <td>2</td>\n",
       "      <td>1</td>\n",
       "      <td>1</td>\n",
       "    </tr>\n",
       "  </tbody>\n",
       "</table>\n",
       "</div>"
      ],
      "text/plain": [
       "         id                                      product_title  product_uid  \\\n",
       "44      164       9.1 in. x 5.8 in. white design shelf bracket       100030   \n",
       "3585  11108  magic chef 23.8 in. w 9.2 cu. ft. bottom freez...       101918   \n",
       "5097  15951  louisvill ladder premium seri 7 ft. - 8 ft. 9 ...       102809   \n",
       "\n",
       "      relevance     search_term  \\\n",
       "44         1.67  8 4616809045 9   \n",
       "3585       3.00  8 4616809045 9   \n",
       "5097       1.67  8 4616809045 9   \n",
       "\n",
       "                                    product_description  \\\n",
       "44    white design shelf bracket offer a stylish alt...   \n",
       "3585  the magic chef 9.2 cu. ft. bottom freezer comp...   \n",
       "5097  the premium seri wood attic ladder from louisv...   \n",
       "\n",
       "                                            prod_detail  len_of_query  \\\n",
       "44     weight capac of 100 lbs per pair of bracket w...             3   \n",
       "3585   bottom freezer refriger energi star qualifi m...             3   \n",
       "5097   wood rail and rung offer solid support and la...             3   \n",
       "\n",
       "                                           product_info  word_in_title  \\\n",
       "44    8 4616809045 9\\t9.1 in. x 5.8 in. white design...              2   \n",
       "3585  8 4616809045 9\\tmagic chef 23.8 in. w 9.2 cu. ...              2   \n",
       "5097  8 4616809045 9\\tlouisvill ladder premium seri ...              2   \n",
       "\n",
       "      word_in_description  word_in_detail  \n",
       "44                      0               0  \n",
       "3585                    2               2  \n",
       "5097                    1               1  "
      ]
     },
     "execution_count": 116,
     "metadata": {},
     "output_type": "execute_result"
    }
   ],
   "source": [
    "df_all[df_all.search_term == '8 4616809045 9'].head(3)"
   ]
  },
  {
   "cell_type": "code",
   "execution_count": 249,
   "metadata": {
    "collapsed": false
   },
   "outputs": [
    {
     "name": "stdout",
     "output_type": "stream",
     "text": [
      "33355\n",
      "37223\n",
      "18583\n"
     ]
    },
    {
     "data": {
      "image/png": "[encoded data removed]",
      "text/plain": [
       "<matplotlib.figure.Figure at 0x1710fa5d0>"
      ]
     },
     "metadata": {},
     "output_type": "display_data"
    }
   ],
   "source": [
    "# Look at cases where all search term words coincide with product 1) title, 2) description and 3) detail\n",
    "ratio1 = df_all.word_in_title/df_all.len_of_query\n",
    "print(len(df_all.relevance[ratio1==1.0]))\n",
    "ratio2 = df_all.word_in_description/df_all.len_of_query\n",
    "print(len(df_all.relevance[ratio2==1.0]))\n",
    "ratio3 = df_all.word_in_detail/df_all.len_of_query\n",
    "print(len(df_all.relevance[ratio3==1.0]))\n",
    "beanplot([df_all.relevance[ratio1==1.0].dropna().values,df_all.relevance[ratio2==1.0].dropna().values,df_all.relevance[ratio3==1.0].dropna().values])\n",
    "plt.show()"
   ]
  },
  {
   "cell_type": "code",
   "execution_count": null,
   "metadata": {
    "collapsed": false
   },
   "outputs": [],
   "source": []
  },
  {
   "cell_type": "code",
   "execution_count": null,
   "metadata": {
    "collapsed": false
   },
   "outputs": [],
   "source": []
  },
  {
   "cell_type": "code",
   "execution_count": null,
   "metadata": {
    "collapsed": false
   },
   "outputs": [],
   "source": []
  },
  {
   "cell_type": "code",
   "execution_count": null,
   "metadata": {
    "collapsed": false
   },
   "outputs": [],
   "source": []
  },
  {
   "cell_type": "code",
   "execution_count": 113,
   "metadata": {
    "collapsed": false,
    "scrolled": true
   },
   "outputs": [
    {
     "data": {
      "text/plain": [
       "<matplotlib.collections.PathCollection at 0x122aeddd0>"
      ]
     },
     "execution_count": 113,
     "metadata": {},
     "output_type": "execute_result"
    },
    {
     "data": {
      "image/png": "[encoded data removed]",
      "text/plain": [
       "<matplotlib.figure.Figure at 0x122da3f10>"
      ]
     },
     "metadata": {},
     "output_type": "display_data"
    }
   ],
   "source": [
    "import scipy\n",
    "avg_words_in_detail = df_all.groupby('relevance')['word_in_detail'].apply(scipy.mean).reset_index()\n",
    "plt.scatter(avg_words_in_detail.iloc[:,0],avg_words_in_detail.iloc[:,1])"
   ]
  },
  {
   "cell_type": "code",
   "execution_count": 114,
   "metadata": {
    "collapsed": false
   },
   "outputs": [
    {
     "data": {
      "text/plain": [
       "<matplotlib.collections.PathCollection at 0x13b5c7610>"
      ]
     },
     "execution_count": 114,
     "metadata": {},
     "output_type": "execute_result"
    },
    {
     "data": {
      "image/png": "[encoded data removed]",
      "text/plain": [
       "<matplotlib.figure.Figure at 0x119f4ea50>"
      ]
     },
     "metadata": {},
     "output_type": "display_data"
    }
   ],
   "source": [
    "avg_words_in_description = df_all.groupby('relevance')['word_in_description'].apply(scipy.mean).reset_index()\n",
    "plt.scatter(avg_words_in_description.iloc[:,0],avg_words_in_description.iloc[:,1])"
   ]
  },
  {
   "cell_type": "code",
   "execution_count": 115,
   "metadata": {
    "collapsed": false
   },
   "outputs": [
    {
     "data": {
      "text/plain": [
       "<matplotlib.collections.PathCollection at 0x122e224d0>"
      ]
     },
     "execution_count": 115,
     "metadata": {},
     "output_type": "execute_result"
    },
    {
     "data": {
      "image/png": "[encoded data removed]",
      "text/plain": [
       "<matplotlib.figure.Figure at 0x122626490>"
      ]
     },
     "metadata": {},
     "output_type": "display_data"
    }
   ],
   "source": [
    "avg_words_in_title = df_all.groupby('relevance')['word_in_title'].apply(scipy.mean).reset_index()\n",
    "plt.scatter(avg_words_in_title.iloc[:,0],avg_words_in_title.iloc[:,1])"
   ]
  },
  {
   "cell_type": "code",
   "execution_count": null,
   "metadata": {
    "collapsed": true
   },
   "outputs": [],
   "source": []
  },
  {
   "cell_type": "code",
   "execution_count": null,
   "metadata": {
    "collapsed": true
   },
   "outputs": [],
   "source": []
  },
  {
   "cell_type": "code",
   "execution_count": 261,
   "metadata": {
    "collapsed": true
   },
   "outputs": [],
   "source": [
    "df_train = df_all.iloc[:num_train]\n",
    "df_test = df_all.iloc[num_train:]\n",
    "id_test = df_test['id']\n"
   ]
  },
  {
   "cell_type": "code",
   "execution_count": 291,
   "metadata": {
    "collapsed": false
   },
   "outputs": [
    {
     "name": "stdout",
     "output_type": "stream",
     "text": [
      "[ nan  nan]\n",
      "[ 3.   2.5]\n",
      "[[100001      3      0      1      1]\n",
      " [100001      3      1      1      1]]\n"
     ]
    }
   ],
   "source": [
    "y_train = df_train['relevance'].values\n",
    "y_test = df_test['relevance'].values\n",
    "X_train = df_train.drop(['id','relevance'],axis=1).values\n",
    "X_test = df_test.drop(['id','relevance'],axis=1).values\n",
    "print(y_test[0:2])\n",
    "print(y_train[0:2])\n",
    "print(X_test[0:2])"
   ]
  },
  {
   "cell_type": "code",
   "execution_count": 263,
   "metadata": {
    "collapsed": false
   },
   "outputs": [],
   "source": [
    "rf = RandomForestRegressor(n_estimators=15, max_depth=6, random_state=0)\n",
    "clf = BaggingRegressor(rf, n_estimators=45, max_samples=0.1, random_state=25)\n",
    "clf.fit(X_train, y_train)\n",
    "y_pred = clf.predict(X_test)\n",
    "\n",
    "pd.DataFrame({\"id\": id_test, \"relevance\": y_pred}).to_csv('submission.csv',index=False)"
   ]
  },
  {
   "cell_type": "code",
   "execution_count": 287,
   "metadata": {
    "collapsed": false
   },
   "outputs": [],
   "source": [
    "#RMSE\n",
    "from sklearn.metrics import mean_squared_error as mse\n",
    "\n",
    "def rmse(true,pred):\n",
    "    mse = 0\n",
    "    for i in range(len(true)):\n",
    "        if true[i] is float:\n",
    "            mse += (true[i] - pred[i])**2\n",
    "            print mse\n",
    "    return mse**0.5"
   ]
  },
  {
   "cell_type": "code",
   "execution_count": 288,
   "metadata": {
    "collapsed": false
   },
   "outputs": [
    {
     "data": {
      "text/plain": [
       "0.0"
      ]
     },
     "execution_count": 288,
     "metadata": {},
     "output_type": "execute_result"
    }
   ],
   "source": [
    "rmse(y_test[0:100],y_pred[0:100])"
   ]
  },
  {
   "cell_type": "code",
   "execution_count": 290,
   "metadata": {
    "collapsed": false
   },
   "outputs": [
    {
     "data": {
      "text/plain": [
       "nan"
      ]
     },
     "execution_count": 290,
     "metadata": {},
     "output_type": "execute_result"
    }
   ],
   "source": [
    "y_test[1]"
   ]
  },
  {
   "cell_type": "code",
   "execution_count": null,
   "metadata": {
    "collapsed": true
   },
   "outputs": [],
   "source": []
  }
 ],
 "metadata": {
  "kernelspec": {
   "display_name": "Python 2",
   "language": "python",
   "name": "python2"
  },
  "language_info": {
   "codemirror_mode": {
    "name": "ipython",
    "version": 2
   },
   "file_extension": ".py",
   "mimetype": "text/x-python",
   "name": "python",
   "nbconvert_exporter": "python",
   "pygments_lexer": "ipython2",
   "version": "2.7.11"
  }
 },
 "nbformat": 4,
 "nbformat_minor": 0
}
